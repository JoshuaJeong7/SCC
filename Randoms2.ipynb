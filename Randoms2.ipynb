{
  "nbformat": 4,
  "nbformat_minor": 0,
  "metadata": {
    "colab": {
      "provenance": [],
      "authorship_tag": "ABX9TyNMSTtS64tsZgTyyw5ue6Rx",
      "include_colab_link": true
    },
    "kernelspec": {
      "name": "python3",
      "display_name": "Python 3"
    },
    "language_info": {
      "name": "python"
    }
  },
  "cells": [
    {
      "cell_type": "markdown",
      "metadata": {
        "id": "view-in-github",
        "colab_type": "text"
      },
      "source": [
        "<a href=\"https://colab.research.google.com/github/JoshuaJeong7/SCC/blob/python/Randoms2.ipynb\" target=\"_parent\"><img src=\"https://colab.research.google.com/assets/colab-badge.svg\" alt=\"Open In Colab\"/></a>"
      ]
    },
    {
      "cell_type": "code",
      "execution_count": 1,
      "metadata": {
        "id": "GwJxtG5LekO0"
      },
      "outputs": [],
      "source": [
        "#Let's start with warmup!\n",
        "#Write your own code that will generate a random number between 1 and 3.\n",
        "#(Hint 1: If you don't remember how to do this, go back to Randoms1.ipynb)\n",
        "#(Hint 2: Did you forget to import something?)\n",
        "\n"
      ]
    },
    {
      "cell_type": "code",
      "source": [
        "#Now let's combine random numbers with if statements!\n",
        "#As a refresher, write some code that will print \"Yay!\" if x is less than or equal to 5.\n",
        "x = 0\n",
        "\n",
        "#Finish the code"
      ],
      "metadata": {
        "id": "7gopMMSxenWC"
      },
      "execution_count": null,
      "outputs": []
    },
    {
      "cell_type": "code",
      "source": [
        "#Let's use random numbers for if statements!\n",
        "#We will ONLY print \"WELL DONE!\" if the random number is equal to 5\n",
        "#Keep running this program until \"WELL DONE!\" is printed!\n",
        "r = random.randint(0, 5)\n",
        "print(\"r right now is \" + str(r))\n",
        "if r == 5:\n",
        "  print(\"WELL DONE!\")\n",
        "else:\n",
        "  print(\"Try again\")"
      ],
      "metadata": {
        "colab": {
          "base_uri": "https://localhost:8080/"
        },
        "id": "Ae7sBEdUjybT",
        "outputId": "fb1eeff0-0c89-4555-c75c-8e308a6d49da"
      },
      "execution_count": 23,
      "outputs": [
        {
          "output_type": "stream",
          "name": "stdout",
          "text": [
            "r right now is 4\n",
            "Done\n"
          ]
        }
      ]
    },
    {
      "cell_type": "code",
      "source": [
        "#Keep running this program until \"WELL DONE!\" is printed!\n",
        "r = random.randint(-4, 45)\n",
        "print(\"r right now is \" + str(r))\n",
        "if r < 0:\n",
        "  print(\"WELL DONE!\")\n",
        "else:\n",
        "  print(\"Try again\")"
      ],
      "metadata": {
        "id": "VQNDFNOmnPAJ",
        "colab": {
          "base_uri": "https://localhost:8080/"
        },
        "outputId": "967ef5f9-28d7-4f17-fb74-acc0909e8f85"
      },
      "execution_count": 55,
      "outputs": [
        {
          "output_type": "stream",
          "name": "stdout",
          "text": [
            "r right now is -1\n",
            "WELL DONE!\n",
            "Done\n"
          ]
        }
      ]
    },
    {
      "cell_type": "code",
      "source": [
        "#List all the numbers for r that will print \"WELL DONE!\"\n",
        "r = random.randint(1, 8)\n",
        "print(\"r right now is \" + str(r))\n",
        "if r >= 5:\n",
        "  print(\"WELL DONE!\")\n",
        "else:\n",
        "  print(\"Try again\")"
      ],
      "metadata": {
        "id": "ldbAICScyW-p"
      },
      "execution_count": 86,
      "outputs": []
    },
    {
      "cell_type": "code",
      "source": [
        "#List all the numbers for r that will print \"WELL DONE!\"\n",
        "r = random.randint(-30, 12)\n",
        "print(\"r right now is \" + str(r))\n",
        "if r == 0:\n",
        "  print(\"WELL DONE!\")\n",
        "else:\n",
        "  print(\"Try again\")"
      ],
      "metadata": {
        "id": "Ydf4l9Ud6BIS"
      },
      "execution_count": null,
      "outputs": []
    },
    {
      "cell_type": "code",
      "source": [
        "#Write a program that will ONLY print \"WELL DONE!\" if r is between 30 and 60\n",
        "r = random.randint(0, 60)\n",
        "print(\"r right now is \" + str(r))\n",
        "\n",
        "#Finish the code"
      ],
      "metadata": {
        "id": "m7Uglq8Q7AH4"
      },
      "execution_count": null,
      "outputs": []
    },
    {
      "cell_type": "code",
      "source": [
        "#Write a program that will ONLY print \"WELL DONE!\" if r is greater than 0\n",
        "r = random.randint(-50, 10)\n",
        "print(\"r right now is \" + str(r))\n",
        "\n",
        "#Finish the code"
      ],
      "metadata": {
        "id": "BX66Pp878_zb"
      },
      "execution_count": null,
      "outputs": []
    },
    {
      "cell_type": "code",
      "source": [
        "#Let's play guess the number!\n",
        "#You will input a number, and the program will only print \"You guessed it right!\" if you guess the number correctly.\n",
        "\n",
        "guess = input(\"Guess a number between 1 and 10: \")\n",
        "guess = int(guess) #input() returns a string, so we must turn it into a number\n",
        "\n",
        "correct_answer = random.randint(1, 10)\n",
        "\n",
        "if guess == correct_answer:\n",
        "  print(\"You guessed it right!\")\n",
        "else:\n",
        "  print(\"Sorry, the number was \" + str(correct_answer))"
      ],
      "metadata": {
        "colab": {
          "base_uri": "https://localhost:8080/"
        },
        "id": "pXAkJVd6ycs6",
        "outputId": "46644f3d-258d-459b-bea6-bc4daea15252"
      },
      "execution_count": 88,
      "outputs": [
        {
          "output_type": "stream",
          "name": "stdout",
          "text": [
            "Guess a number between 1 and 10: 1\n",
            "Sorry, the number was 5\n"
          ]
        }
      ]
    }
  ]
}