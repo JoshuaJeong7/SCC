{
  "nbformat": 4,
  "nbformat_minor": 0,
  "metadata": {
    "colab": {
      "provenance": [],
      "authorship_tag": "ABX9TyNoeK+zbyskUXMwacKY4nb5",
      "include_colab_link": true
    },
    "kernelspec": {
      "name": "python3",
      "display_name": "Python 3"
    },
    "language_info": {
      "name": "python"
    }
  },
  "cells": [
    {
      "cell_type": "markdown",
      "metadata": {
        "id": "view-in-github",
        "colab_type": "text"
      },
      "source": [
        "<a href=\"https://colab.research.google.com/github/JoshuaJeong7/SCC/blob/main/Randoms1.ipynb\" target=\"_parent\"><img src=\"https://colab.research.google.com/assets/colab-badge.svg\" alt=\"Open In Colab\"/></a>"
      ]
    },
    {
      "cell_type": "code",
      "source": [
        "y = random.randint(1, 3)\n",
        "print(y)\n",
        "#Uh oh! Why doesn't this work?"
      ],
      "metadata": {
        "colab": {
          "base_uri": "https://localhost:8080/",
          "height": 176
        },
        "id": "XIc6vJWaKJqk",
        "outputId": "93f6364f-3b33-4c9b-dde1-9d81894015b6"
      },
      "execution_count": null,
      "outputs": [
        {
          "output_type": "error",
          "ename": "NameError",
          "evalue": "name 'random' is not defined",
          "traceback": [
            "\u001b[0;31m---------------------------------------------------------------------------\u001b[0m",
            "\u001b[0;31mNameError\u001b[0m                                 Traceback (most recent call last)",
            "\u001b[0;32m<ipython-input-1-be45bb2e42f4>\u001b[0m in \u001b[0;36m<cell line: 1>\u001b[0;34m()\u001b[0m\n\u001b[0;32m----> 1\u001b[0;31m \u001b[0my\u001b[0m \u001b[0;34m=\u001b[0m \u001b[0mrandom\u001b[0m\u001b[0;34m.\u001b[0m\u001b[0mrandint\u001b[0m\u001b[0;34m(\u001b[0m\u001b[0;36m1\u001b[0m\u001b[0;34m,\u001b[0m \u001b[0;36m3\u001b[0m\u001b[0;34m)\u001b[0m\u001b[0;34m\u001b[0m\u001b[0;34m\u001b[0m\u001b[0m\n\u001b[0m\u001b[1;32m      2\u001b[0m \u001b[0mprint\u001b[0m\u001b[0;34m(\u001b[0m\u001b[0my\u001b[0m\u001b[0;34m)\u001b[0m\u001b[0;34m\u001b[0m\u001b[0;34m\u001b[0m\u001b[0m\n\u001b[1;32m      3\u001b[0m \u001b[0;31m#Uh oh! Why doesn't this work?\u001b[0m\u001b[0;34m\u001b[0m\u001b[0;34m\u001b[0m\u001b[0m\n",
            "\u001b[0;31mNameError\u001b[0m: name 'random' is not defined"
          ]
        }
      ]
    },
    {
      "cell_type": "code",
      "execution_count": null,
      "metadata": {
        "id": "57821acn1POD"
      },
      "outputs": [],
      "source": [
        "import random\n",
        "#THIS is what you need to make random numbers!"
      ]
    },
    {
      "cell_type": "code",
      "source": [
        "x = random.randint(1, 3)\n",
        "print(x)\n",
        "#Run this 15 times (or until you print all numbers 1, 2, and 3)!"
      ],
      "metadata": {
        "colab": {
          "base_uri": "https://localhost:8080/"
        },
        "id": "enVzmxjBKMrT",
        "outputId": "a560ac65-5419-4e3d-986c-f9f6dd64bf09"
      },
      "execution_count": null,
      "outputs": [
        {
          "output_type": "stream",
          "name": "stdout",
          "text": [
            "3\n"
          ]
        }
      ]
    },
    {
      "cell_type": "code",
      "source": [
        "a = random.randint(-1, 10)\n",
        "print(a)\n",
        "b = random.randint(-1, 10)\n",
        "print(b)\n",
        "c = random.randint(-1, 10)\n",
        "print(c)\n",
        "#Run this 15 times (or until you eventually see all numbers from -1, 0, 1, ..., 8, 9, 10)!"
      ],
      "metadata": {
        "colab": {
          "base_uri": "https://localhost:8080/"
        },
        "id": "PbqT9uEyLf5h",
        "outputId": "68fa09a8-0ca7-4492-a7cf-682881d4f683"
      },
      "execution_count": null,
      "outputs": [
        {
          "output_type": "stream",
          "name": "stdout",
          "text": [
            "9\n",
            "2\n",
            "3\n"
          ]
        }
      ]
    },
    {
      "cell_type": "code",
      "source": [
        "#What are all the numbers that x CAN be?\n",
        "x = random.randint(4, 16)\n",
        "print(x)"
      ],
      "metadata": {
        "id": "tlg4H8TevjdU"
      },
      "execution_count": 1,
      "outputs": []
    },
    {
      "cell_type": "code",
      "source": [
        "#What are all the numbers that x CAN be?\n",
        "x = random.randint(-1, 3)\n",
        "print(x)"
      ],
      "metadata": {
        "id": "4FjwsOlkv0kI"
      },
      "execution_count": null,
      "outputs": []
    },
    {
      "cell_type": "code",
      "source": [
        "#What are all the numbers that x CAN be?\n",
        "x = random.randint(0, 0)\n",
        "print(x)"
      ],
      "metadata": {
        "id": "qaRA1GjKv617"
      },
      "execution_count": null,
      "outputs": []
    },
    {
      "cell_type": "code",
      "source": [
        "#Now try it yourself! Make myNum store a random number between 0 and 5\n",
        "myNum = #Finish the code\n",
        "#print(myNum)  #Make sure to print myNum!"
      ],
      "metadata": {
        "id": "hNd7zb7eMZAN"
      },
      "execution_count": null,
      "outputs": []
    }
  ]
}