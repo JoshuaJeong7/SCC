{
  "nbformat": 4,
  "nbformat_minor": 0,
  "metadata": {
    "colab": {
      "provenance": [],
      "authorship_tag": "ABX9TyOM94t5if/zyFWQxaqbdI4u",
      "include_colab_link": true
    },
    "kernelspec": {
      "name": "python3",
      "display_name": "Python 3"
    },
    "language_info": {
      "name": "python"
    }
  },
  "cells": [
    {
      "cell_type": "markdown",
      "metadata": {
        "id": "view-in-github",
        "colab_type": "text"
      },
      "source": [
        "<a href=\"https://colab.research.google.com/github/JoshuaJeong7/SCC/blob/main/IfIntro.ipynb\" target=\"_parent\"><img src=\"https://colab.research.google.com/assets/colab-badge.svg\" alt=\"Open In Colab\"/></a>"
      ]
    },
    {
      "cell_type": "code",
      "source": [
        "x = 5\n",
        "#We will only print \"Yay!\" when x is equal to 5.\n",
        "#x right now is 5\n",
        "print(\"x right now is \" + str(x))\n",
        "if x == 5:\n",
        "  print(\"Yay!\")\n",
        "print(\"Done\")"
      ],
      "metadata": {
        "colab": {
          "base_uri": "https://localhost:8080/"
        },
        "id": "PnpxZTK0fCse",
        "outputId": "2883f5fc-6f4f-441c-d469-7b59aa689626"
      },
      "execution_count": null,
      "outputs": [
        {
          "output_type": "stream",
          "name": "stdout",
          "text": [
            "x right now is 5\n",
            "Yay!\n",
            "Done\n"
          ]
        }
      ]
    },
    {
      "cell_type": "code",
      "source": [
        "#Let's change x to 4. Will this still print \"Yay!\"?\n",
        "x = 4"
      ],
      "metadata": {
        "id": "8keRVdSifI5G"
      },
      "execution_count": null,
      "outputs": []
    },
    {
      "cell_type": "code",
      "source": [
        "#x right now is 4\n",
        "print(\"x right now is \" + str(x))\n",
        "if x == 5:\n",
        "  print(\"Yay!\")\n",
        "print(\"Done\")\n",
        "#As you can see, \"Yay!\" is NOT printed, since x is not equal to 5."
      ],
      "metadata": {
        "colab": {
          "base_uri": "https://localhost:8080/"
        },
        "id": "GSF2mWgwfPmQ",
        "outputId": "103ef804-6eda-4daf-b8c3-448a4017d164"
      },
      "execution_count": null,
      "outputs": [
        {
          "output_type": "stream",
          "name": "stdout",
          "text": [
            "x right now is 4\n",
            "Done\n"
          ]
        }
      ]
    },
    {
      "cell_type": "code",
      "source": [
        "#If we say x is LESS than or equal to 5, we WILL print \"Yay!\", because x is 4\n",
        "#x right now is 4\n",
        "print(\"x right now is \" + str(x))\n",
        "if x <= 5:\n",
        "  print(\"Yay!\")\n",
        "print(\"Done\")"
      ],
      "metadata": {
        "colab": {
          "base_uri": "https://localhost:8080/"
        },
        "id": "y-I2SnsifSOB",
        "outputId": "4c022362-b2e6-4d74-d729-f4b51d83dd69"
      },
      "execution_count": null,
      "outputs": [
        {
          "output_type": "stream",
          "name": "stdout",
          "text": [
            "x right now is 4\n",
            "Yay!\n",
            "Done\n"
          ]
        }
      ]
    },
    {
      "cell_type": "code",
      "source": [
        "#Determine whether \"Yay!\" is printed or not.\n",
        "x = 42\n",
        "if x > 50:\n",
        "  print(\"Yay!\")\n",
        "print(\"Done\")"
      ],
      "metadata": {
        "id": "CielT4tNf0FM"
      },
      "execution_count": null,
      "outputs": []
    },
    {
      "cell_type": "code",
      "source": [
        "#Determine whether \"Yay!\" is printed or not.\n",
        "x = 20\n",
        "if x / 5 == 4:\n",
        "  print(\"Yay!\")\n",
        "print(\"Done\")"
      ],
      "metadata": {
        "id": "isSRlrRPgEvl"
      },
      "execution_count": null,
      "outputs": []
    },
    {
      "cell_type": "code",
      "source": [
        "#Determine whether \"Yay!\" is printed or not.\n",
        "x = 20\n",
        "if x % 5 == 0:\n",
        "  print(\"Yay!\")\n",
        "print(\"Done\")"
      ],
      "metadata": {
        "id": "Uz-ZZj1-gOB6"
      },
      "execution_count": null,
      "outputs": []
    },
    {
      "cell_type": "code",
      "source": [
        "#Determine whether \"Hello\" and \"World\" are both printed or not.\n",
        "a = 20\n",
        "b = 60\n",
        "if a < b:\n",
        "  print(\"Hello\")\n",
        "if a + b >= 80:\n",
        "  print(\"World\")\n",
        "print(\"Done\")"
      ],
      "metadata": {
        "id": "r9PraKsvf-XP"
      },
      "execution_count": null,
      "outputs": []
    },
    {
      "cell_type": "code",
      "source": [
        "#Write your own code to print \"Yay!\" if num is less than 50.\n",
        "num = 0\n",
        "\n",
        "#Finish the code"
      ],
      "metadata": {
        "id": "8TwZxbjzgflT"
      },
      "execution_count": null,
      "outputs": []
    },
    {
      "cell_type": "code",
      "source": [
        "#Write your own code to print \"Yay!\" if age is equal to 20\n",
        "age = 0\n",
        "\n",
        "#Finish the code"
      ],
      "metadata": {
        "id": "VqK8T1CPhXDW"
      },
      "execution_count": null,
      "outputs": []
    }
  ]
}
