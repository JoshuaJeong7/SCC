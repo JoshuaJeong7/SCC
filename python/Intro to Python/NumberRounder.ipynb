{
  "nbformat": 4,
  "nbformat_minor": 0,
  "metadata": {
    "colab": {
      "provenance": [],
      "authorship_tag": "ABX9TyNYBuAmcMeKyzj36xicu5P+",
      "include_colab_link": true
    },
    "kernelspec": {
      "name": "python3",
      "display_name": "Python 3"
    },
    "language_info": {
      "name": "python"
    }
  },
  "cells": [
    {
      "cell_type": "markdown",
      "metadata": {
        "id": "view-in-github",
        "colab_type": "text"
      },
      "source": [
        "<a href=\"https://colab.research.google.com/github/JoshuaJeong7/SCC/blob/main/python/NumberRounder.ipynb\" target=\"_parent\"><img src=\"https://colab.research.google.com/assets/colab-badge.svg\" alt=\"Open In Colab\"/></a>"
      ]
    },
    {
      "cell_type": "code",
      "execution_count": null,
      "metadata": {
        "colab": {
          "base_uri": "https://localhost:8080/"
        },
        "id": "3pIES7LvyeR5",
        "outputId": "b6cb18a0-72ef-4459-a6ec-e6e69012d50c"
      },
      "outputs": [
        {
          "output_type": "stream",
          "name": "stdout",
          "text": [
            "1\n",
            "0.035\n"
          ]
        }
      ],
      "source": [
        "\"\"\"\n",
        "  COPY THIS WHOLE CODE AND PASTE IT INTO YOUR REPLIT/PROGRAMIZ TO BEGIN THE ASSIGNMENT\n",
        "\n",
        "  NumberRounder: This program's objective is to take any decimal number 'origNumber',\n",
        "  and round it to the nearest WHOLE digit. This means that if 'origNumber' has a\n",
        "  decimal value of 3.5, it will be changed to 4, while if 'origNumber' is 3.2, it changes to 3.\n",
        "  Your goal is to change and fix the program so that it achieves the desired result\n",
        "  of rounding 'origNumber' to the correct place, no matter what number it is!\n",
        "\n",
        "  Rules:\n",
        "  -You must follow the basic structure of code laid out for you (do not delete variables).\n",
        "  -You may ADD any additional variables you need if necessary.\n",
        "  -YOU CANNOT USE OTHER FUNCTIONS THAT WE HAVE NOT LEARNED YET, such as round().\n",
        "  -You are DISCOURAGED FROM USING IF/ELSE STATEMENTS. (If you don't know what that is, good! Don't worry about it!)\n",
        "    If you cannot figure out a way to otherwise solve the problem, use if/else as a LAST resort.\n",
        "  -You may assume that numbers are never negative. If you want to account for negative numbers, make that your challenge!\n",
        "\"\"\"\n",
        "\n",
        "origNumber = 1 #This is the decimal number that you want to round.\n",
        "#Examples of testing numbers:\n",
        "#3.14 -> 3\n",
        "#3.59 -> 4\n",
        "#1.12 -> 1\n",
        "#254.34 -> 254\n",
        "#449.99 -> 450\n",
        "#20 -> 20\n",
        "\n",
        "roundedDigit = origNumber #EDIT THIS LINE SO THAT ANY NUMBER WILL BE ROUNDED TO THE NEAREST WHOLE DIGIT.\n",
        "\n",
        "print(roundedDigit)\n",
        "\n",
        "# If you are done with the first assignment, all the code below is OPTIONAL as an extension.\n",
        "# If you want to take a shot at solving the extension, then you can begin!\n",
        "\n",
        "# EXTENSION: Same exact assignment as above, but instead of rounding to the nearest whole number,\n",
        "# create a program that will round to ANY decimal place that you desire, such as 0.1, 0.01, or 0.0001!\n",
        "\n",
        "extensionNumber = 0.035\n",
        "place = 2 #Enter a digit to round to (0 indicates whole digit, 1 indicates 0.5, 2 indicates 0.05, etc)\n",
        "extensionRound = extensionNumber\n",
        "\n",
        "print(extensionRound)\n"
      ]
    },
    {
      "cell_type": "code",
      "source": [
        "#"
      ],
      "metadata": {
        "id": "m3YO7q9O2fN3"
      },
      "execution_count": null,
      "outputs": []
    }
  ]
}
